{
  "nbformat": 4,
  "nbformat_minor": 0,
  "metadata": {
    "colab": {
      "provenance": []
    },
    "kernelspec": {
      "name": "python3",
      "display_name": "Python 3"
    },
    "language_info": {
      "name": "python"
    }
  },
  "cells": [
    {
      "cell_type": "markdown",
      "source": [
        "Files, exceptional handling, logging and\n",
        "memory management Assignment\n"
      ],
      "metadata": {
        "id": "lW63mKYL6Zi1"
      }
    },
    {
      "cell_type": "markdown",
      "source": [
        "Theoritical Questions & Answers"
      ],
      "metadata": {
        "id": "cX_4oGhR6e61"
      }
    },
    {
      "cell_type": "markdown",
      "source": [
        "1. What is the difference between interpreted and compiled languages?\n",
        "\n",
        " => Interpreted languages execute code line-by-line during runtime, making debugging easier. Compiled languages convert the entire source code into machine code before execution, which generally runs faster.\n",
        "\n",
        "2. What is exception handling in Python?\n",
        "\n",
        " => Exception handling is a technique to manage errors that occur during program execution. It prevents the program from crashing and allows for graceful recovery.\n",
        "\n",
        "3. What is the purpose of the finally block in exception handling?\n",
        "\n",
        " => The finally block is used to define code that must run no matter what. It is typically used for resource cleanup like closing files or releasing memory.\n",
        "\n",
        "4. What is logging in Python?\n",
        "\n",
        " => Logging is the process of recording information about a program’s execution. It helps with debugging, error tracking, and monitoring system behavior.\n",
        "\n",
        "5. What is the significance of the __del__ method in Python?\n",
        "\n",
        " => The __del__ method is a special method called when an object is destroyed. It's often used to release resources like file handles or database connections.\n",
        "\n",
        "6. What is the difference between import and from ... import in Python?\n",
        "\n",
        " => import brings in the whole module, requiring the use of module name to access its content. from ... import brings in specific items directly, allowing direct usage.\n",
        "\n",
        "7. How can you handle multiple exceptions in Python?\n",
        "\n",
        " => Multiple exceptions can be handled using multiple except blocks or by combining them in a tuple. This helps deal with different error types effectively.\n",
        "\n",
        "8. What is the purpose of the with statement when handling files in Python?\n",
        "\n",
        " => The with statement is used to simplify file operations and ensure the file is automatically closed after the block is executed.\n",
        "\n",
        "9. What is the difference between multithreading and multiprocessing?\n",
        "\n",
        " => Multithreading runs multiple threads within the same process and memory space. Multiprocessing runs separate processes with their own memory, suitable for CPU-bound tasks.\n",
        "\n",
        "10. What are the advantages of using logging in a program?\n",
        "\n",
        " => Logging helps track program flow, detect errors, and keep records of important events. It aids in maintenance and debugging.\n",
        "\n",
        "11. What is memory management in Python?\n",
        "\n",
        " => Memory management refers to the efficient allocation and release of memory during program execution. Python uses automatic memory management with a built-in garbage collector.\n",
        "\n",
        "12. What are the basic steps involved in exception handling in Python?\n",
        "\n",
        " => The basic steps are using try to write code that may raise an error, except to handle the error, else for code that runs if no error occurs, and finally for cleanup.\n",
        "\n",
        "13. Why is memory management important in Python?\n",
        "\n",
        " => It ensures optimal performance and prevents memory leaks. Good memory management is essential for the smooth functioning of large-scale or long-running applications.\n",
        "\n",
        "14. What is the role of try and except in exception handling?\n",
        "\n",
        " => The try block lets you test a block of code for errors. The except block allows you to handle those errors appropriately.\n",
        "\n",
        "15. How does Python's garbage collection system work?\n",
        "\n",
        " => Python’s garbage collection uses reference counting and cyclic garbage collection to automatically clean up unused objects and free memory.\n",
        "\n",
        "16. What is the purpose of the else block in exception handling?\n",
        "\n",
        " => The else block executes if no exceptions occur in the try block. It separates error-handling logic from regular code.\n",
        "\n",
        "17. What are the common logging levels in Python?\n",
        "\n",
        " => The common logging levels are DEBUG, INFO, WARNING, ERROR, and CRITICAL. They indicate the severity of the log messages.\n",
        "\n",
        "18. What is the difference between os.fork() and multiprocessing in Python?\n",
        "\n",
        " => os.fork() is a low-level Unix-specific process creation method. multiprocessing is a high-level, cross-platform module that simplifies parallel task execution.\n",
        "\n",
        "19. What is the importance of closing a file in Python?\n",
        "\n",
        " => Closing a file releases system resources and ensures all data is written to the file. It prevents data loss and corruption.\n",
        "\n",
        "20. What is the difference between file.read() and file.readline() in Python?\n",
        "\n",
        " => file.read() reads the entire file into memory, while file.readline() reads only one line at a time. They are used based on memory and use-case considerations.\n",
        "\n",
        "21. What is the logging module in Python used for?\n",
        "\n",
        " => The logging module allows you to record messages related to program execution. It provides flexibility in logging levels and output formats.\n",
        "\n",
        "22. What is the os module in Python used for in file handling?\n",
        "\n",
        " => The os module provides functions to interact with the operating system. It helps manage files, directories, and system-level tasks.\n",
        "\n",
        "23. What are the challenges associated with memory management in Python?\n",
        "\n",
        " => Challenges include dealing with circular references, memory leaks, and optimizing memory use in large applications or datasets.\n",
        "\n",
        "24. How do you raise an exception manually in Python?\n",
        "\n",
        " => You can raise exceptions manually using the raise keyword. It helps in enforcing rules or handling custom error conditions.\n",
        "\n",
        "25. Why is it important to use multithreading in certain applications?\n",
        "\n",
        " => Multithreading improves performance in I/O-bound applications by allowing multiple operations to run concurrently, enhancing responsiveness.\n"
      ],
      "metadata": {
        "id": "HJpZt5vY6nOF"
      }
    },
    {
      "cell_type": "markdown",
      "source": [
        "Practical questions"
      ],
      "metadata": {
        "id": "MMnOPgy382_Q"
      }
    },
    {
      "cell_type": "code",
      "source": [
        "#1.How can you open a file for writing in Python and write a string to it?\n",
        "with open(\"sample.txt\", \"w\") as file:\n",
        "    file.write(\"Hello, this is a sample file.\")\n",
        "\n",
        "\n"
      ],
      "metadata": {
        "id": "2A01MW1y856B"
      },
      "execution_count": 2,
      "outputs": []
    },
    {
      "cell_type": "code",
      "source": [
        "#2. Write a Python program to read the contents of a file and print each line.\n",
        "with open(\"sample.txt\", \"r\") as file:\n",
        "    for line in file:\n",
        "        print(line.strip())\n"
      ],
      "metadata": {
        "colab": {
          "base_uri": "https://localhost:8080/"
        },
        "id": "1jLlkxsa-wSV",
        "outputId": "abb54026-82cd-414a-ebee-d2166f9ff149"
      },
      "execution_count": 3,
      "outputs": [
        {
          "output_type": "stream",
          "name": "stdout",
          "text": [
            "Hello, this is a sample file.\n"
          ]
        }
      ]
    },
    {
      "cell_type": "code",
      "source": [
        "#3. How would you handle a case where the file doesn't exist while trying to open it for reading?\n",
        "try:\n",
        "    with open(\"nonexistent.txt\", \"r\") as file:\n",
        "        content = file.read()\n",
        "except FileNotFoundError:\n",
        "    print(\"File not found.\")\n"
      ],
      "metadata": {
        "colab": {
          "base_uri": "https://localhost:8080/"
        },
        "id": "ClCEvRk4-762",
        "outputId": "a22570e0-26b1-4e51-bd77-a8dd93fea25b"
      },
      "execution_count": 4,
      "outputs": [
        {
          "output_type": "stream",
          "name": "stdout",
          "text": [
            "File not found.\n"
          ]
        }
      ]
    },
    {
      "cell_type": "code",
      "source": [
        "#4. Write a Python script that reads from one file and writes its content to another file.\n",
        "with open(\"source.txt\", \"r\") as src, open(\"destination.txt\", \"w\") as dst:\n",
        "    dst.write(src.read())\n"
      ],
      "metadata": {
        "id": "bGYJ4l6k_UqP"
      },
      "execution_count": null,
      "outputs": []
    },
    {
      "cell_type": "code",
      "source": [
        "#5. How would you catch and handle division by zero error in Python?\n",
        "try:\n",
        "    result = 10 / 0\n",
        "except ZeroDivisionError:\n",
        "    print(\"Cannot divide by zero.\")\n"
      ],
      "metadata": {
        "colab": {
          "base_uri": "https://localhost:8080/"
        },
        "id": "RpZcNjkg_ZVt",
        "outputId": "2267854d-b869-421d-a8d4-38f741924827"
      },
      "execution_count": 8,
      "outputs": [
        {
          "output_type": "stream",
          "name": "stdout",
          "text": [
            "Cannot divide by zero.\n"
          ]
        }
      ]
    },
    {
      "cell_type": "code",
      "source": [
        "#6. Write a Python program that logs an error message to a log file when a division by zero exception occurs.\n",
        "import logging\n",
        "\n",
        "logging.basicConfig(filename=\"app.log\", level=logging.ERROR)\n",
        "\n",
        "try:\n",
        "    x = 1 / 0\n",
        "except ZeroDivisionError:\n",
        "    logging.error(\"Attempted to divide by zero.\")\n"
      ],
      "metadata": {
        "colab": {
          "base_uri": "https://localhost:8080/"
        },
        "id": "xLpUIx5t_gzf",
        "outputId": "d59b509c-8cff-49f4-c75c-4190ccd316d5"
      },
      "execution_count": 9,
      "outputs": [
        {
          "output_type": "stream",
          "name": "stderr",
          "text": [
            "ERROR:root:Attempted to divide by zero.\n"
          ]
        }
      ]
    },
    {
      "cell_type": "code",
      "source": [
        "#7. How do you log information at different levels (INFO, ERROR, WARNING) in Python using the logging module?\n",
        "import logging\n",
        "\n",
        "logging.basicConfig(level=logging.DEBUG)\n",
        "logging.info(\"This is an info message.\")\n",
        "logging.warning(\"This is a warning.\")\n",
        "logging.error(\"This is an error.\")\n"
      ],
      "metadata": {
        "colab": {
          "base_uri": "https://localhost:8080/"
        },
        "id": "M0_fwJ_M_onS",
        "outputId": "4366a3ba-28b1-4bd6-cec5-234dcc6217d2"
      },
      "execution_count": 10,
      "outputs": [
        {
          "output_type": "stream",
          "name": "stderr",
          "text": [
            "WARNING:root:This is a warning.\n",
            "ERROR:root:This is an error.\n"
          ]
        }
      ]
    },
    {
      "cell_type": "code",
      "source": [
        "#8. Write a program to handle a file opening error using exception handling.\n",
        "try:\n",
        "    with open(\"missing.txt\", \"r\") as file:\n",
        "        print(file.read())\n",
        "except FileNotFoundError:\n",
        "    print(\"File could not be opened.\")\n"
      ],
      "metadata": {
        "colab": {
          "base_uri": "https://localhost:8080/"
        },
        "id": "gV0XWDdR_whE",
        "outputId": "2ec2af47-c873-454c-d7c0-583ed3554b42"
      },
      "execution_count": 11,
      "outputs": [
        {
          "output_type": "stream",
          "name": "stdout",
          "text": [
            "File could not be opened.\n"
          ]
        }
      ]
    },
    {
      "cell_type": "code",
      "source": [
        "#9. How can you read a file line by line and store its content in a list in Python?\n",
        "with open(\"sample.txt\", \"r\") as file:\n",
        "    lines = file.readlines()\n",
        "\n",
        "print(lines)\n"
      ],
      "metadata": {
        "colab": {
          "base_uri": "https://localhost:8080/"
        },
        "id": "sGNTo755_4ad",
        "outputId": "af1bf69b-a9d5-460c-f82d-8b093e6cf892"
      },
      "execution_count": 12,
      "outputs": [
        {
          "output_type": "stream",
          "name": "stdout",
          "text": [
            "['Hello, this is a sample file.']\n"
          ]
        }
      ]
    },
    {
      "cell_type": "code",
      "source": [
        "#10. How can you append data to an existing file in Python?\n",
        "with open(\"sample.txt\", \"a\") as file:\n",
        "    file.write(\"\\nThis is an appended line.\")\n"
      ],
      "metadata": {
        "id": "g6SbJej5__R_"
      },
      "execution_count": 13,
      "outputs": []
    },
    {
      "cell_type": "code",
      "source": [
        "#11. Write a Python program that uses a try-except block to handle an error when attempting to access a dictionary key that doesn't exist.\n",
        "data = {\"name\": \"Alice\"}\n",
        "\n",
        "try:\n",
        "    print(data[\"age\"])\n",
        "except KeyError:\n",
        "    print(\"Key not found.\")\n"
      ],
      "metadata": {
        "colab": {
          "base_uri": "https://localhost:8080/"
        },
        "id": "oLPNLDzpAJu9",
        "outputId": "65bcfce0-f228-4b36-94fc-1ac2f7c63d41"
      },
      "execution_count": 14,
      "outputs": [
        {
          "output_type": "stream",
          "name": "stdout",
          "text": [
            "Key not found.\n"
          ]
        }
      ]
    },
    {
      "cell_type": "code",
      "source": [
        "#12. Write a program that demonstrates using multiple except blocks to handle different types of exceptions.\n",
        "try:\n",
        "    a = 10 / 0\n",
        "except ZeroDivisionError:\n",
        "    print(\"Zero division error occurred.\")\n",
        "except ValueError:\n",
        "    print(\"Value error occurred.\")\n"
      ],
      "metadata": {
        "colab": {
          "base_uri": "https://localhost:8080/"
        },
        "id": "yPOIWi2CAP3K",
        "outputId": "8b3be0f4-664a-411f-b704-b4763d27e696"
      },
      "execution_count": 15,
      "outputs": [
        {
          "output_type": "stream",
          "name": "stdout",
          "text": [
            "Zero division error occurred.\n"
          ]
        }
      ]
    },
    {
      "cell_type": "code",
      "source": [
        "#13. How would you check if a file exists before attempting to read it in Python?\n",
        "import os\n",
        "\n",
        "if os.path.exists(\"sample.txt\"):\n",
        "    with open(\"sample.txt\", \"r\") as file:\n",
        "        print(file.read())\n",
        "else:\n",
        "    print(\"File does not exist.\")\n"
      ],
      "metadata": {
        "colab": {
          "base_uri": "https://localhost:8080/"
        },
        "id": "TAWzFYIAAVN_",
        "outputId": "194b26bd-8d47-4442-c892-590358cd9f56"
      },
      "execution_count": 16,
      "outputs": [
        {
          "output_type": "stream",
          "name": "stdout",
          "text": [
            "Hello, this is a sample file.\n",
            "This is an appended line.\n"
          ]
        }
      ]
    },
    {
      "cell_type": "code",
      "source": [
        "#14. Write a program that uses the logging module to log both informational and error messages.\n",
        "import logging\n",
        "\n",
        "logging.basicConfig(filename=\"logfile.log\", level=logging.DEBUG)\n",
        "logging.info(\"Program started\")\n",
        "try:\n",
        "    1 / 0\n",
        "except ZeroDivisionError:\n",
        "    logging.error(\"Division by zero occurred\")\n"
      ],
      "metadata": {
        "colab": {
          "base_uri": "https://localhost:8080/"
        },
        "id": "5ptceMBbAalm",
        "outputId": "6fdf3d51-105c-40eb-d6cd-27a53b53de8a"
      },
      "execution_count": 17,
      "outputs": [
        {
          "output_type": "stream",
          "name": "stderr",
          "text": [
            "ERROR:root:Division by zero occurred\n"
          ]
        }
      ]
    },
    {
      "cell_type": "code",
      "source": [
        "#15. Write a Python program that prints the content of a file and handles the case when the file is empty.\n",
        "with open(\"sample.txt\", \"r\") as file:\n",
        "    content = file.read()\n",
        "    if content:\n",
        "        print(content)\n",
        "    else:\n",
        "        print(\"File is empty.\")\n"
      ],
      "metadata": {
        "colab": {
          "base_uri": "https://localhost:8080/"
        },
        "id": "wPP_zOL6AgJw",
        "outputId": "157d6fb5-8a0c-4536-adcf-1931c5b9c82a"
      },
      "execution_count": 18,
      "outputs": [
        {
          "output_type": "stream",
          "name": "stdout",
          "text": [
            "Hello, this is a sample file.\n",
            "This is an appended line.\n"
          ]
        }
      ]
    },
    {
      "cell_type": "code",
      "source": [
        "#16. Demonstrate how to use memory profiling to check the memory usage of a small program.\n",
        "from memory_profiler import profile\n",
        "\n",
        "@profile\n",
        "def my_function():\n",
        "    a = [i for i in range(100000)]\n",
        "    return sum(a)\n",
        "\n",
        "my_function()\n"
      ],
      "metadata": {
        "id": "vygDnMpzA1Y_"
      },
      "execution_count": null,
      "outputs": []
    },
    {
      "cell_type": "code",
      "source": [
        "#17. Write a Python program to create and write a list of numbers to a file, one number per line.\n",
        "numbers = [1, 2, 3, 4, 5]\n",
        "\n",
        "with open(\"numbers.txt\", \"w\") as file:\n",
        "    for num in numbers:\n",
        "        file.write(str(num) + \"\\n\")\n"
      ],
      "metadata": {
        "id": "dTzx72uFA6nJ"
      },
      "execution_count": 20,
      "outputs": []
    },
    {
      "cell_type": "code",
      "source": [
        "#18. How would you implement a basic logging setup that logs to a file with rotation after 1MB?\n",
        "import logging\n",
        "from logging.handlers import RotatingFileHandler\n",
        "\n",
        "handler = RotatingFileHandler(\"rotate.log\", maxBytes=1000000, backupCount=3)\n",
        "logging.basicConfig(handlers=[handler], level=logging.INFO)\n",
        "\n",
        "logging.info(\"This is a test log with rotation.\")\n"
      ],
      "metadata": {
        "id": "JG_4E9keBBaH"
      },
      "execution_count": 21,
      "outputs": []
    },
    {
      "cell_type": "code",
      "source": [
        "#19. Write a program that handles both IndexError and KeyError using a try-except block.\n",
        "data = {\"name\": \"Bob\"}\n",
        "lst = [1, 2, 3]\n",
        "\n",
        "try:\n",
        "    print(lst[5])\n",
        "    print(data[\"age\"])\n",
        "except IndexError:\n",
        "    print(\"List index out of range.\")\n",
        "except KeyError:\n",
        "    print(\"Key not found in dictionary.\")\n"
      ],
      "metadata": {
        "colab": {
          "base_uri": "https://localhost:8080/"
        },
        "id": "gWWkFzO4BGus",
        "outputId": "5b7a5c22-bbb8-44c0-8a92-bbbb7895bb44"
      },
      "execution_count": 22,
      "outputs": [
        {
          "output_type": "stream",
          "name": "stdout",
          "text": [
            "List index out of range.\n"
          ]
        }
      ]
    },
    {
      "cell_type": "code",
      "source": [
        "#20. How would you open a file and read its contents using a context manager in Python?\n",
        "with open(\"sample.txt\", \"r\") as file:\n",
        "    content = file.read()\n",
        "    print(content)\n"
      ],
      "metadata": {
        "colab": {
          "base_uri": "https://localhost:8080/"
        },
        "id": "6nn1NTuSBNba",
        "outputId": "7d50268f-67f3-4763-82e6-5ed6e5e11397"
      },
      "execution_count": 23,
      "outputs": [
        {
          "output_type": "stream",
          "name": "stdout",
          "text": [
            "Hello, this is a sample file.\n",
            "This is an appended line.\n"
          ]
        }
      ]
    },
    {
      "cell_type": "code",
      "source": [
        "#21. Write a Python program that reads a file and prints the number of occurrences of a specific word.\n",
        "word_to_find = \"python\"\n",
        "count = 0\n",
        "\n",
        "with open(\"sample.txt\", \"r\") as file:\n",
        "    for line in file:\n",
        "        count += line.lower().count(word_to_find.lower())\n",
        "\n",
        "print(f\"'{word_to_find}' found {count} times.\")\n"
      ],
      "metadata": {
        "colab": {
          "base_uri": "https://localhost:8080/"
        },
        "id": "Blhh5fR8BSXJ",
        "outputId": "921d3788-6f2b-4534-86bc-bbd576cec447"
      },
      "execution_count": 24,
      "outputs": [
        {
          "output_type": "stream",
          "name": "stdout",
          "text": [
            "'python' found 0 times.\n"
          ]
        }
      ]
    },
    {
      "cell_type": "code",
      "source": [
        "#22. How can you check if a file is empty before attempting to read its contents?\n",
        "import os\n",
        "\n",
        "if os.stat(\"sample.txt\").st_size == 0:\n",
        "    print(\"File is empty.\")\n",
        "else:\n",
        "    with open(\"sample.txt\", \"r\") as file:\n",
        "        print(file.read())\n"
      ],
      "metadata": {
        "colab": {
          "base_uri": "https://localhost:8080/"
        },
        "id": "Hos6lBylBXMa",
        "outputId": "86af0326-fd5b-4d73-f3ca-e52ad99fc593"
      },
      "execution_count": 25,
      "outputs": [
        {
          "output_type": "stream",
          "name": "stdout",
          "text": [
            "Hello, this is a sample file.\n",
            "This is an appended line.\n"
          ]
        }
      ]
    },
    {
      "cell_type": "code",
      "source": [
        "#23. Write a Python program that writes to a log file when an error occurs during file handling.\n",
        "import logging\n",
        "\n",
        "logging.basicConfig(filename=\"file_error.log\", level=logging.ERROR)\n",
        "\n",
        "try:\n",
        "    with open(\"nofile.txt\", \"r\") as file:\n",
        "        print(file.read())\n",
        "except Exception as e:\n",
        "    logging.error(f\"Error occurred: {e}\")\n"
      ],
      "metadata": {
        "colab": {
          "base_uri": "https://localhost:8080/"
        },
        "id": "Wa-Lvm0-Bc5W",
        "outputId": "42b66aee-df6c-42f3-c3d6-cfbd2588fafd"
      },
      "execution_count": 26,
      "outputs": [
        {
          "output_type": "stream",
          "name": "stderr",
          "text": [
            "ERROR:root:Error occurred: [Errno 2] No such file or directory: 'nofile.txt'\n"
          ]
        }
      ]
    }
  ]
}